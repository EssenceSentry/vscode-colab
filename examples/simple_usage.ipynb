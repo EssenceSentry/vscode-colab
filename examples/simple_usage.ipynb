{
  "cells": [
    {
      "cell_type": "markdown",
      "metadata": {
        "id": "yKVi_CWGRUf1"
      },
      "source": [
        "# Simple Usage of vscode_colab\n",
        "\n",
        "This notebook demonstrates how to use the `vscode-colab` library to set up a VS Code server in Google Colab."
      ]
    },
    {
      "cell_type": "code",
      "execution_count": 1,
      "metadata": {
        "colab": {
          "base_uri": "https://localhost:8080/"
        },
        "id": "NfPowXc3RUf3",
        "outputId": "eccb0ab6-1cf4-4f2f-b181-4ba84aa46124"
      },
      "outputs": [
        {
          "output_type": "stream",
          "name": "stdout",
          "text": [
            "Collecting vscode-colab\n",
            "  Downloading vscode_colab-0.3.1-py3-none-any.whl.metadata (8.1 kB)\n",
            "Requirement already satisfied: requests in /usr/local/lib/python3.11/dist-packages (from vscode-colab) (2.32.3)\n",
            "Requirement already satisfied: ipython in /usr/local/lib/python3.11/dist-packages (from vscode-colab) (7.34.0)\n",
            "Requirement already satisfied: jinja2 in /usr/local/lib/python3.11/dist-packages (from vscode-colab) (3.1.6)\n",
            "Collecting loguru (from vscode-colab)\n",
            "  Downloading loguru-0.7.3-py3-none-any.whl.metadata (22 kB)\n",
            "Requirement already satisfied: setuptools>=18.5 in /usr/local/lib/python3.11/dist-packages (from ipython->vscode-colab) (75.2.0)\n",
            "Collecting jedi>=0.16 (from ipython->vscode-colab)\n",
            "  Downloading jedi-0.19.2-py2.py3-none-any.whl.metadata (22 kB)\n",
            "Requirement already satisfied: decorator in /usr/local/lib/python3.11/dist-packages (from ipython->vscode-colab) (4.4.2)\n",
            "Requirement already satisfied: pickleshare in /usr/local/lib/python3.11/dist-packages (from ipython->vscode-colab) (0.7.5)\n",
            "Requirement already satisfied: traitlets>=4.2 in /usr/local/lib/python3.11/dist-packages (from ipython->vscode-colab) (5.7.1)\n",
            "Requirement already satisfied: prompt-toolkit!=3.0.0,!=3.0.1,<3.1.0,>=2.0.0 in /usr/local/lib/python3.11/dist-packages (from ipython->vscode-colab) (3.0.51)\n",
            "Requirement already satisfied: pygments in /usr/local/lib/python3.11/dist-packages (from ipython->vscode-colab) (2.19.1)\n",
            "Requirement already satisfied: backcall in /usr/local/lib/python3.11/dist-packages (from ipython->vscode-colab) (0.2.0)\n",
            "Requirement already satisfied: matplotlib-inline in /usr/local/lib/python3.11/dist-packages (from ipython->vscode-colab) (0.1.7)\n",
            "Requirement already satisfied: pexpect>4.3 in /usr/local/lib/python3.11/dist-packages (from ipython->vscode-colab) (4.9.0)\n",
            "Requirement already satisfied: MarkupSafe>=2.0 in /usr/local/lib/python3.11/dist-packages (from jinja2->vscode-colab) (3.0.2)\n",
            "Requirement already satisfied: charset-normalizer<4,>=2 in /usr/local/lib/python3.11/dist-packages (from requests->vscode-colab) (3.4.2)\n",
            "Requirement already satisfied: idna<4,>=2.5 in /usr/local/lib/python3.11/dist-packages (from requests->vscode-colab) (3.10)\n",
            "Requirement already satisfied: urllib3<3,>=1.21.1 in /usr/local/lib/python3.11/dist-packages (from requests->vscode-colab) (2.4.0)\n",
            "Requirement already satisfied: certifi>=2017.4.17 in /usr/local/lib/python3.11/dist-packages (from requests->vscode-colab) (2025.4.26)\n",
            "Requirement already satisfied: parso<0.9.0,>=0.8.4 in /usr/local/lib/python3.11/dist-packages (from jedi>=0.16->ipython->vscode-colab) (0.8.4)\n",
            "Requirement already satisfied: ptyprocess>=0.5 in /usr/local/lib/python3.11/dist-packages (from pexpect>4.3->ipython->vscode-colab) (0.7.0)\n",
            "Requirement already satisfied: wcwidth in /usr/local/lib/python3.11/dist-packages (from prompt-toolkit!=3.0.0,!=3.0.1,<3.1.0,>=2.0.0->ipython->vscode-colab) (0.2.13)\n",
            "Downloading vscode_colab-0.3.1-py3-none-any.whl (33 kB)\n",
            "Downloading loguru-0.7.3-py3-none-any.whl (61 kB)\n",
            "\u001b[2K   \u001b[90m━━━━━━━━━━━━━━━━━━━━━━━━━━━━━━━━━━━━━━━━\u001b[0m \u001b[32m61.6/61.6 kB\u001b[0m \u001b[31m2.5 MB/s\u001b[0m eta \u001b[36m0:00:00\u001b[0m\n",
            "\u001b[?25hDownloading jedi-0.19.2-py2.py3-none-any.whl (1.6 MB)\n",
            "\u001b[2K   \u001b[90m━━━━━━━━━━━━━━━━━━━━━━━━━━━━━━━━━━━━━━━━\u001b[0m \u001b[32m1.6/1.6 MB\u001b[0m \u001b[31m22.8 MB/s\u001b[0m eta \u001b[36m0:00:00\u001b[0m\n",
            "\u001b[?25hInstalling collected packages: loguru, jedi, vscode-colab\n",
            "Successfully installed jedi-0.19.2 loguru-0.7.3 vscode-colab-0.3.1\n"
          ]
        }
      ],
      "source": [
        "%pip install vscode-colab"
      ]
    },
    {
      "cell_type": "code",
      "execution_count": 2,
      "metadata": {
        "id": "GVfUtb-cRUf5"
      },
      "outputs": [],
      "source": [
        "# For local development, add the src directory to the Python path\n",
        "# import sys\n",
        "\n",
        "\n",
        "# sys.path.append(\"./vscode-colab/src\")"
      ]
    },
    {
      "cell_type": "code",
      "execution_count": 3,
      "metadata": {
        "colab": {
          "base_uri": "https://localhost:8080/",
          "height": 401
        },
        "id": "R4QOZ71VRUf5",
        "outputId": "df6690a2-a31c-4b34-ed40-3b39b88b9254"
      },
      "outputs": [
        {
          "output_type": "stream",
          "name": "stderr",
          "text": [
            "\u001b[32m2025-05-14 17:05:01\u001b[0m | \u001b[1mINFO    \u001b[0m | \u001b[36mvscode_colab.server:download_vscode_cli:74\u001b[0m - \u001b[1mDownloading VS Code CLI (cli-alpine-x64) to /content/vscode_cli_alpine_x64.tar.gz...\u001b[0m\n",
            "\u001b[32m2025-05-14 17:05:01\u001b[0m | \u001b[1mINFO    \u001b[0m | \u001b[36mvscode_colab.server:download_vscode_cli:87\u001b[0m - \u001b[1mVS Code CLI tarball downloaded. Extracting...\u001b[0m\n",
            "\u001b[32m2025-05-14 17:05:02\u001b[0m | \u001b[1mINFO    \u001b[0m | \u001b[36mvscode_colab.server:download_vscode_cli:171\u001b[0m - \u001b[1mVS Code CLI setup successful. Executable at: '/content/code'.\u001b[0m\n",
            "\u001b[32m2025-05-14 17:05:02\u001b[0m | \u001b[1mINFO    \u001b[0m | \u001b[36mvscode_colab.server:_login:220\u001b[0m - \u001b[1mInitiating VS Code Tunnel login with command: /content/code tunnel user login --provider github\u001b[0m\n",
            "\u001b[32m2025-05-14 17:05:02\u001b[0m | \u001b[1mINFO    \u001b[0m | \u001b[36mvscode_colab.server:_login:254\u001b[0m - \u001b[1mMonitoring login process output for GitHub authentication URL and code...\u001b[0m\n",
            "\u001b[32m2025-05-14 17:05:02\u001b[0m | \u001b[1mINFO    \u001b[0m | \u001b[36mvscode_colab.server:_login:272\u001b[0m - \u001b[1mDetected authentication URL: https://github.com/login/device\u001b[0m\n",
            "\u001b[32m2025-05-14 17:05:02\u001b[0m | \u001b[1mINFO    \u001b[0m | \u001b[36mvscode_colab.server:_login:278\u001b[0m - \u001b[1mDetected authentication code: 6A5A-0208\u001b[0m\n",
            "\u001b[32m2025-05-14 17:05:02\u001b[0m | \u001b[1mINFO    \u001b[0m | \u001b[36mvscode_colab.server:_login:281\u001b[0m - \u001b[1mAuthentication URL and code detected. Displaying to user.\u001b[0m\n"
          ]
        },
        {
          "output_type": "display_data",
          "data": {
            "text/plain": [
              "<IPython.core.display.HTML object>"
            ],
            "text/html": [
              "<div style=\"padding: 15px; background-color: #f0f7ff; border-radius: 8px; margin: 15px 0; font-family: Arial, sans-serif; border: 1px solid #c8e1ff; line-height: 1.6;\">\n",
              "    <h3 style=\"margin-top: 0; color: #0366d6; font-size: 18px;\">GitHub Authentication Required</h3>\n",
              "    <p style=\"margin-bottom: 15px; color: #333333;\">Please open the link below in a new tab and enter the following code:</p>\n",
              "    <div style=\"display: flex; align-items: center; margin-bottom: 15px; flex-wrap: wrap; gap: 15px;\">\n",
              "        <a href=\"https://github.com/login/device\" target=\"_blank\"\n",
              "            style=\"background-color: #2ea44f; color: white; padding: 10px 16px; text-decoration: none; border-radius: 6px; font-weight: 500; white-space: nowrap;\">\n",
              "            Open GitHub Authentication Page\n",
              "        </a>\n",
              "        <div id=\"code-container\" style=\"background-color: #ffffff; border: 1px solid #d1d5da; border-radius: 6px; padding: 10px 16px; font-family: 'SFMono-Regular', Consolas, 'Liberation Mono', Menlo, monospace; display: flex; align-items: center;\">\n",
              "            <span id=\"auth-code\" style=\"margin-right: 15px; font-size: 16px; user-select: all; color: #24292e;\">6A5A-0208</span>\n",
              "        </div>\n",
              "    </div>\n",
              "    <p id=\"copy-fallback-note\" style=\"font-size: small; color: #586069; margin-top: 10px; display: none;\">\n",
              "        Please select the code manually and copy it.\n",
              "    </p>\n",
              "    <script>\n",
              "        (function() {\n",
              "            // The Jinja2 'tojson' filter correctly escapes the string for JavaScript.\n",
              "            const codeToCopy = \"6A5A-0208\";\n",
              "            const codeContainer = document.getElementById('code-container');\n",
              "            const fallbackNote = document.getElementById('copy-fallback-note');\n",
              "\n",
              "            function attemptCopy() {\n",
              "                const copyButton = document.getElementById('dynamicCopyButton');\n",
              "                if (!copyButton) return;\n",
              "\n",
              "                navigator.clipboard.writeText(codeToCopy).then(() => {\n",
              "                    copyButton.textContent = 'Copied!';\n",
              "                    copyButton.style.backgroundColor = '#dff0d8';\n",
              "                    copyButton.style.borderColor = '#d6e9c6';\n",
              "                    copyButton.style.color = '#3c763d';\n",
              "                    setTimeout(() => {\n",
              "                        copyButton.textContent = 'Copy';\n",
              "                        copyButton.style.backgroundColor = '#f6f8fa';\n",
              "                        copyButton.style.borderColor = '#d1d5da';\n",
              "                        copyButton.style.color = '';\n",
              "                    }, 2500);\n",
              "                }).catch(err => {\n",
              "                    console.error('Failed to copy code automatically: ', err);\n",
              "                    copyButton.textContent = 'Copy Failed';\n",
              "                    copyButton.disabled = true;\n",
              "                    copyButton.style.backgroundColor = '#f2dede';\n",
              "                    copyButton.style.borderColor = '#ebccd1';\n",
              "                    copyButton.style.color = '#a94442';\n",
              "                    fallbackNote.style.display = 'block';\n",
              "                });\n",
              "            }\n",
              "\n",
              "            if (navigator.clipboard && navigator.clipboard.writeText) {\n",
              "                const button = document.createElement('button');\n",
              "                button.id = 'dynamicCopyButton';\n",
              "                button.textContent = 'Copy';\n",
              "                button.style.backgroundColor = '#f6f8fa';\n",
              "                button.style.border = '1px solid #d1d5da';\n",
              "                button.style.borderRadius = '6px';\n",
              "                button.style.padding = '6px 12px';\n",
              "                button.style.cursor = 'pointer';\n",
              "                button.style.fontSize = '14px';\n",
              "                button.style.whiteSpace = 'nowrap';\n",
              "                button.style.marginLeft = '10px';\n",
              "                button.onclick = attemptCopy;\n",
              "                codeContainer.appendChild(button);\n",
              "            } else {\n",
              "                fallbackNote.style.display = 'block';\n",
              "            }\n",
              "        })();\n",
              "    </script>\n",
              "</div>"
            ]
          },
          "metadata": {}
        },
        {
          "output_type": "stream",
          "name": "stderr",
          "text": [
            "\u001b[32m2025-05-14 17:05:02\u001b[0m | \u001b[1mINFO    \u001b[0m | \u001b[36mvscode_colab.server:login:200\u001b[0m - \u001b[1mLogin successful: Set environment variable VSCODE_COLAB_LOGGED_IN=true\u001b[0m\n"
          ]
        },
        {
          "output_type": "execute_result",
          "data": {
            "text/plain": [
              "True"
            ]
          },
          "metadata": {},
          "execution_count": 3
        }
      ],
      "source": [
        "from vscode_colab import login, connect\n",
        "\n",
        "\n",
        "login()"
      ]
    },
    {
      "cell_type": "markdown",
      "metadata": {
        "id": "s7Q1u-8tRUf6"
      },
      "source": [
        "You can also pass the extensions you want to install. Additionally, you can specify a Python version to be set up using `pyenv` (note: this can take around 5 minutes if the Python version needs to be installed) and create a new project directory with a virtual environment.\n",
        "\n",
        "Here are some examples:"
      ]
    },
    {
      "cell_type": "code",
      "execution_count": 4,
      "metadata": {
        "colab": {
          "base_uri": "https://localhost:8080/",
          "height": 1000
        },
        "id": "E86cGd2vRUf7",
        "outputId": "8de68ee8-ec28-453b-c3d1-3dfc79f6f465"
      },
      "outputs": [
        {
          "output_type": "stream",
          "name": "stderr",
          "text": [
            "\u001b[32m2025-05-14 17:05:02\u001b[0m | \u001b[1mINFO    \u001b[0m | \u001b[36mvscode_colab.server:connect:579\u001b[0m - \u001b[1mInitial CWD for connect operation: /content\u001b[0m\n",
            "\u001b[32m2025-05-14 17:05:02\u001b[0m | \u001b[1mINFO    \u001b[0m | \u001b[36mvscode_colab.server:download_vscode_cli:58\u001b[0m - \u001b[1mVS Code CLI already exists and is executable at /content/code. Skipping download.\u001b[0m\n",
            "\u001b[32m2025-05-14 17:05:02\u001b[0m | \u001b[1mINFO    \u001b[0m | \u001b[36mvscode_colab.environment.git_handler:configure_git:27\u001b[0m - \u001b[1mAttempting to set git global user.name='Your Name' and user.email='you@example.com'...\u001b[0m\n",
            "\u001b[32m2025-05-14 17:05:02\u001b[0m | \u001b[1mINFO    \u001b[0m | \u001b[36mvscode_colab.environment.git_handler:configure_git:53\u001b[0m - \u001b[1mSuccessfully set git global user.name='Your Name'.\u001b[0m\n",
            "\u001b[32m2025-05-14 17:05:02\u001b[0m | \u001b[1mINFO    \u001b[0m | \u001b[36mvscode_colab.environment.git_handler:configure_git:88\u001b[0m - \u001b[1mSuccessfully set git global user.email='you@example.com'.\u001b[0m\n",
            "\u001b[32m2025-05-14 17:05:02\u001b[0m | \u001b[1mINFO    \u001b[0m | \u001b[36mvscode_colab.server:_configure_environment_for_tunnel:354\u001b[0m - \u001b[1mAttempting to set up Python version: 3.13 using pyenv.\u001b[0m\n",
            "\u001b[32m2025-05-14 17:05:02\u001b[0m | \u001b[1mINFO    \u001b[0m | \u001b[36mvscode_colab.environment.python_env:setup_and_get_python_executable:520\u001b[0m - \u001b[1mPyenv is not installed. Attempting to install pyenv.\u001b[0m\n",
            "\u001b[32m2025-05-14 17:05:02\u001b[0m | \u001b[1mINFO    \u001b[0m | \u001b[36mvscode_colab.environment.python_env:install_pyenv:155\u001b[0m - \u001b[1mAttempting to install pyenv into /root/.pyenv...\u001b[0m\n",
            "\u001b[32m2025-05-14 17:05:02\u001b[0m | \u001b[1mINFO    \u001b[0m | \u001b[36mvscode_colab.environment.python_env:install_pyenv:158\u001b[0m - \u001b[1mChecking and installing pyenv build dependencies first...\u001b[0m\n",
            "\u001b[32m2025-05-14 17:05:02\u001b[0m | \u001b[1mINFO    \u001b[0m | \u001b[36mvscode_colab.environment.python_env:install_pyenv_dependencies:80\u001b[0m - \u001b[1mAttempting to install pyenv build dependencies...\u001b[0m\n",
            "\u001b[32m2025-05-14 17:05:02\u001b[0m | \u001b[1mINFO    \u001b[0m | \u001b[36mvscode_colab.environment.python_env:install_pyenv_dependencies:98\u001b[0m - \u001b[1mRunning: /usr/bin/sudo /usr/bin/apt update -y\u001b[0m\n",
            "\u001b[32m2025-05-14 17:05:14\u001b[0m | \u001b[1mINFO    \u001b[0m | \u001b[36mvscode_colab.environment.python_env:install_pyenv_dependencies:115\u001b[0m - \u001b[1mapt update completed successfully.\u001b[0m\n",
            "\u001b[32m2025-05-14 17:05:14\u001b[0m | \u001b[1mINFO    \u001b[0m | \u001b[36mvscode_colab.environment.python_env:install_pyenv_dependencies:121\u001b[0m - \u001b[1mRunning: /usr/bin/sudo /usr/bin/apt install -y build-essential curl libbz2-dev libffi-dev liblzma-dev libncurses5-dev libncursesw5-dev libreadline-dev libsqlite3-dev libssl-dev libxml2-dev libxmlsec1-dev llvm make tk-dev wget xz-utils zlib1g-dev (this might take a moment)\u001b[0m\n",
            "\u001b[32m2025-05-14 17:05:38\u001b[0m | \u001b[1mINFO    \u001b[0m | \u001b[36mvscode_colab.environment.python_env:install_pyenv_dependencies:145\u001b[0m - \u001b[1mSuccessfully installed pyenv build dependencies.\u001b[0m\n",
            "\u001b[32m2025-05-14 17:05:38\u001b[0m | \u001b[1mINFO    \u001b[0m | \u001b[36mvscode_colab.environment.python_env:install_pyenv:202\u001b[0m - \u001b[1mExecuting pyenv installer script: /usr/bin/bash /tmp/pyenv-installer-61jrte4z.sh with PYENV_ROOT=/root/.pyenv\u001b[0m\n",
            "\u001b[32m2025-05-14 17:05:40\u001b[0m | \u001b[1mINFO    \u001b[0m | \u001b[36mvscode_colab.environment.python_env:install_pyenv:234\u001b[0m - \u001b[1mpyenv installer stdout: Cloning into '/root/.pyenv'...\n",
            "Cloning into '/root/.pyenv/plugins/pyenv-doctor'...\n",
            "Cloning into '/root/.pyenv/plugins/pyenv-update'...\n",
            "Cloning into '/root/.pyenv/plugins/pyenv-virtualenv'...\n",
            "\n",
            "WARNING: seems you still have not added 'pyenv' to the load path.\n",
            "\n",
            "# Load pyenv automatically by appending\n",
            "# the following to \n",
            "# ~/.bash_profile if it exists, otherwise ~/.profile (for login shells)\n",
            "# and ~/.bashrc (for interactive shells) :\n",
            "\n",
            "export PYENV_ROOT=\"$HOME/.pyenv\"\n",
            "[[ -d $PYENV_ROOT/bin ]] && export PATH=\"$PYENV_ROOT/bin:$PATH\"\n",
            "eval \"$(pyenv init - bash)\"\n",
            "\n",
            "# Restart your shell for the changes to take effect.\n",
            "\n",
            "# Load pyenv-virtualenv automatically by adding\n",
            "# the following to ~/.bashrc:\n",
            "\n",
            "eval \"$(pyenv virtualenv-init -)\"\u001b[0m\n",
            "\u001b[32m2025-05-14 17:05:40\u001b[0m | \u001b[1mINFO    \u001b[0m | \u001b[36mvscode_colab.environment.python_env:install_pyenv:249\u001b[0m - \u001b[1mpyenv installed successfully into /root/.pyenv. Executable: /root/.pyenv/bin/pyenv\u001b[0m\n",
            "\u001b[32m2025-05-14 17:05:40\u001b[0m | \u001b[1mINFO    \u001b[0m | \u001b[36mvscode_colab.environment.python_env:install_python_version:334\u001b[0m - \u001b[1mInstalling Python 3.13 with pyenv. This may take around 5-10 minutes...\u001b[0m\n",
            "\u001b[32m2025-05-14 17:05:40\u001b[0m | \u001b[1mINFO    \u001b[0m | \u001b[36mvscode_colab.environment.python_env:install_python_version:348\u001b[0m - \u001b[1mUsing PYTHON_CONFIGURE_OPTS: --enable-shared\u001b[0m\n",
            "\u001b[32m2025-05-14 17:11:59\u001b[0m | \u001b[1mINFO    \u001b[0m | \u001b[36mvscode_colab.environment.python_env:install_python_version:367\u001b[0m - \u001b[1mPython 3.13 installed successfully via pyenv.\u001b[0m\n",
            "\u001b[32m2025-05-14 17:11:59\u001b[0m | \u001b[1mINFO    \u001b[0m | \u001b[36mvscode_colab.environment.python_env:set_global_python_version:392\u001b[0m - \u001b[1mSetting global Python version to 3.13 using pyenv...\u001b[0m\n",
            "\u001b[32m2025-05-14 17:11:59\u001b[0m | \u001b[1mINFO    \u001b[0m | \u001b[36mvscode_colab.environment.python_env:set_global_python_version:405\u001b[0m - \u001b[1mGlobal Python version successfully set to 3.13.\u001b[0m\n",
            "\u001b[32m2025-05-14 17:11:59\u001b[0m | \u001b[1mINFO    \u001b[0m | \u001b[36mvscode_colab.server:_configure_environment_for_tunnel:365\u001b[0m - \u001b[1mUsing pyenv Python '/root/.pyenv/versions/3.13.3/bin/python3.13' for subsequent venv creation.\u001b[0m\n",
            "\u001b[32m2025-05-14 17:11:59\u001b[0m | \u001b[1mINFO    \u001b[0m | \u001b[36mvscode_colab.server:_configure_environment_for_tunnel:390\u001b[0m - \u001b[1mAttempting to create project: 'my_awesome_project' at '.'.\u001b[0m\n",
            "\u001b[32m2025-05-14 17:11:59\u001b[0m | \u001b[1mINFO    \u001b[0m | \u001b[36mvscode_colab.environment.project_setup:setup_project_directory:360\u001b[0m - \u001b[1mCreating project directory at: /content/my_awesome_project\u001b[0m\n",
            "\u001b[32m2025-05-14 17:11:59\u001b[0m | \u001b[1mINFO    \u001b[0m | \u001b[36mvscode_colab.environment.project_setup:_initialize_git_repo:206\u001b[0m - \u001b[1mInitializing Git repository...\u001b[0m\n",
            "\u001b[32m2025-05-14 17:11:59\u001b[0m | \u001b[1mINFO    \u001b[0m | \u001b[36mvscode_colab.environment.project_setup:_initialize_git_repo:236\u001b[0m - \u001b[1mGit repository initialized successfully.\u001b[0m\n",
            "\u001b[32m2025-05-14 17:11:59\u001b[0m | \u001b[1mINFO    \u001b[0m | \u001b[36mvscode_colab.environment.project_setup:_create_virtual_environment:265\u001b[0m - \u001b[1mAttempting to create virtual environment '.venv' in '/content/my_awesome_project' using Python: /root/.pyenv/versions/3.13.3/bin/python3.13\u001b[0m\n",
            "\u001b[32m2025-05-14 17:11:59\u001b[0m | \u001b[1mINFO    \u001b[0m | \u001b[36mvscode_colab.environment.project_setup:_create_virtual_environment:278\u001b[0m - \u001b[1mCreating virtual environment '.venv' in '/content/my_awesome_project' using '/root/.pyenv/versions/3.13.3/bin/python3.13'.\u001b[0m\n",
            "\u001b[32m2025-05-14 17:12:04\u001b[0m | \u001b[1mINFO    \u001b[0m | \u001b[36mvscode_colab.environment.project_setup:_create_virtual_environment:307\u001b[0m - \u001b[1mVirtual environment '.venv' creation command reported success.\u001b[0m\n",
            "\u001b[32m2025-05-14 17:12:04\u001b[0m | \u001b[1mINFO    \u001b[0m | \u001b[36mvscode_colab.environment.project_setup:_determine_venv_python_executable:49\u001b[0m - \u001b[1mFound venv python executable: /content/my_awesome_project/.venv/bin/python3.13\u001b[0m\n",
            "\u001b[32m2025-05-14 17:12:04\u001b[0m | \u001b[1mINFO    \u001b[0m | \u001b[36mvscode_colab.environment.project_setup:_ensure_pip_in_venv:163\u001b[0m - \u001b[1mChecking for pip using venv Python: /content/my_awesome_project/.venv/bin/python3.13\u001b[0m\n",
            "\u001b[32m2025-05-14 17:12:04\u001b[0m | \u001b[1mINFO    \u001b[0m | \u001b[36mvscode_colab.environment.project_setup:_ensure_pip_in_venv:178\u001b[0m - \u001b[1mpip is available and working in the virtual environment. Version: pip 25.0.1 from /content/my_awesome_project/.venv/lib/python3.13/site-packages/pip (python 3.13)\u001b[0m\n",
            "\u001b[32m2025-05-14 17:12:04\u001b[0m | \u001b[1mINFO    \u001b[0m | \u001b[36mvscode_colab.environment.project_setup:_create_virtual_environment:332\u001b[0m - \u001b[1mSUCCESS: Virtual environment '.venv' with pip is ready at /content/my_awesome_project/.venv. Venv Python: /content/my_awesome_project/.venv/bin/python3.13\u001b[0m\n",
            "\u001b[32m2025-05-14 17:12:04\u001b[0m | \u001b[1mINFO    \u001b[0m | \u001b[36mvscode_colab.environment.project_setup:setup_project_directory:394\u001b[0m - \u001b[1mProject 'my_awesome_project' successfully set up at /content/my_awesome_project\u001b[0m\n",
            "\u001b[32m2025-05-14 17:12:04\u001b[0m | \u001b[1mINFO    \u001b[0m | \u001b[36mvscode_colab.server:_configure_environment_for_tunnel:405\u001b[0m - \u001b[1mSuccessfully created project at '/content/my_awesome_project'. Tunnel CWD set.\u001b[0m\n",
            "\u001b[32m2025-05-14 17:12:04\u001b[0m | \u001b[1mINFO    \u001b[0m | \u001b[36mvscode_colab.server:_launch_and_monitor_tunnel:457\u001b[0m - \u001b[1mStarting VS Code tunnel with command: /content/code tunnel --accept-server-license-terms --name my-dev-environment --install-extension mgesbert.python-path --install-extension ms-python.black-formatter --install-extension ms-python.debugpy --install-extension ms-python.isort --install-extension ms-python.python --install-extension ms-python.vscode-pylance --install-extension ms-toolsai.jupyter --install-extension ms-toolsai.jupyter-keymap --install-extension ms-toolsai.jupyter-renderers --install-extension ms-toolsai.tensorboard\u001b[0m\n",
            "\u001b[32m2025-05-14 17:12:04\u001b[0m | \u001b[1mINFO    \u001b[0m | \u001b[36mvscode_colab.server:_launch_and_monitor_tunnel:458\u001b[0m - \u001b[1mTunnel will run with CWD: /content/my_awesome_project\u001b[0m\n",
            "\u001b[32m2025-05-14 17:12:04\u001b[0m | \u001b[1mINFO    \u001b[0m | \u001b[36mvscode_colab.server:_launch_and_monitor_tunnel:483\u001b[0m - \u001b[1mMonitoring tunnel 'my-dev-environment' process output for connection URL...\u001b[0m\n",
            "\u001b[32m2025-05-14 17:12:13\u001b[0m | \u001b[1mINFO    \u001b[0m | \u001b[36mvscode_colab.server:_launch_and_monitor_tunnel:505\u001b[0m - \u001b[1mVS Code Tunnel URL for 'my-dev-environment' detected: https://vscode.dev/tunnel/my-dev-environment/content\u001b[0m\n"
          ]
        },
        {
          "output_type": "display_data",
          "data": {
            "text/plain": [
              "<IPython.core.display.HTML object>"
            ],
            "text/html": [
              "\n",
              "<div style=\"padding:15px; background:#f0f9f0; border-radius:8px; margin:15px 0; font-family:Arial,sans-serif; border:1px solid #c8e6c9; line-height: 1.6;\">\n",
              "    <h3 style=\"margin:0 0 15px; color:#2e7d32; font-size: 18px;\">✅ VS Code Tunnel Ready!</h3>\n",
              "    <p style=\"margin-bottom: 15px; color: #333333;\">You can connect in two ways:</p>\n",
              "    <div style=\"margin-bottom: 15px;\">\n",
              "        <strong style=\"color: #333333;\">1. Open in Browser:</strong><br>\n",
              "        <a href=\"https://vscode.dev/tunnel/my-dev-environment/content\" target=\"_blank\"\n",
              "            style=\"background-color:#1976d2; color:white; padding:10px 16px; border-radius:6px; text-decoration:none; font-weight:500; display:inline-block; margin-top: 5px;\">\n",
              "            Open VS Code Web\n",
              "        </a>\n",
              "    </div>\n",
              "    <hr style=\"border: 0; border-top: 1px solid #c8e6c9; margin: 20px 0;\" />\n",
              "    <div style=\"margin-bottom: 10px; color: #333333;\">\n",
              "        <strong style=\"color: #333333;\">2. Connect from Desktop VS Code:</strong>\n",
              "        <ol style=\"margin-top: 5px; padding-left: 20px; color: #333333;\">\n",
              "            <li>Make sure you have the <a href=\"https://marketplace.visualstudio.com/items?itemName=ms-vscode.remote-server\" target=\"_blank\" style=\"color: #1976d2;\">Remote Tunnels</a> extension installed.</li>\n",
              "            <li>Ensure you are signed in to VS Code with the <strong>same GitHub account</strong> used for authentication.</li>\n",
              "            <li>Open the Command Palette (<kbd style=\"background: #e0e0e0; color: #333; padding: 2px 4px; border-radius: 3px; border: 1px solid #ccc; font-family: monospace;\">Ctrl+Shift+P</kbd> or <kbd style=\"background: #e0e0e0; color: #333; padding: 2px 4px; border-radius: 3px; border: 1px solid #ccc; font-family: monospace;\">Cmd+Shift+P</kbd>).</li>\n",
              "            <li>Run the command: <code style=\"background: #e0e0e0; color: #333; padding: 2px 5px; border-radius: 3px;\">Remote Tunnels: Connect to Tunnel</code></li>\n",
              "            <li>Select the tunnel named \"<strong style=\"color: #333333;\">my-dev-environment</strong>\" from the list.</li>\n",
              "        </ol>\n",
              "    </div>\n",
              "</div>"
            ]
          },
          "metadata": {}
        },
        {
          "output_type": "stream",
          "name": "stderr",
          "text": [
            "\u001b[32m2025-05-14 17:12:13\u001b[0m | \u001b[1mINFO    \u001b[0m | \u001b[36mvscode_colab.server:connect:627\u001b[0m - \u001b[1mVS Code tunnel 'my-dev-environment' process started successfully.\u001b[0m\n"
          ]
        },
        {
          "output_type": "execute_result",
          "data": {
            "text/plain": [
              "<Popen: returncode: None args: ['/content/code', 'tunnel', '--accept-server-...>"
            ]
          },
          "metadata": {},
          "execution_count": 4
        }
      ],
      "source": [
        "# Example 1: Default connect (uncomment to run)\n",
        "# connect()\n",
        "\n",
        "# Example 2: Connect with a specific tunnel name, Git configuration, Python version, and new project\n",
        "# Note: Installing a new Python version with pyenv can take ~5 minutes if the version is not already installed.\n",
        "connect(\n",
        "    name=\"my-dev-environment\",\n",
        "    git_user_name=\"Your Name\",\n",
        "    git_user_email=\"you@example.com\",\n",
        "    setup_python_version=\"3.13\",  # Optional: Specify Python version to install with pyenv\n",
        "    create_new_project=\"my_awesome_project\", # Optional: Create a new project folder\n",
        "    # new_project_base_path=\".\", # Optional: Base path for the new project (default is current dir)\n",
        "    # venv_name_for_project=\".venv\" # Optional: Name for the virtual environment in the new project\n",
        ")\n",
        "\n",
        "# Example 3: Only install specific extensions, overriding defaults (uncomment to run)\n",
        "# connect(name=\"cpp-dev\", extensions=[\"ms-vscode.cpptools\"], include_default_extensions=False)\n",
        "\n",
        "# Example 4: Set up Python and create a project in a specific location (uncomment to run)\n",
        "# connect(\n",
        "#     name=\"py310-specific-project\",\n",
        "#     setup_python_version=\"3.10\",\n",
        "#     create_new_project=\"another_project\",\n",
        "#     new_project_base_path=\"~/my_projects\", # Be cautious with paths like ~ in Colab/Kaggle\n",
        "#     venv_name_for_project=\".custom_env\"\n",
        "# )"
      ]
    }
  ],
  "metadata": {
    "colab": {
      "provenance": []
    },
    "kernelspec": {
      "display_name": "Python 3 (ipykernel)",
      "language": "python",
      "name": "python3"
    },
    "language_info": {
      "codemirror_mode": {
        "name": "ipython",
        "version": 3
      },
      "file_extension": ".py",
      "mimetype": "text/x-python",
      "name": "python",
      "nbconvert_exporter": "python",
      "pygments_lexer": "ipython3",
      "version": "3.11.11"
    }
  },
  "nbformat": 4,
  "nbformat_minor": 0
}