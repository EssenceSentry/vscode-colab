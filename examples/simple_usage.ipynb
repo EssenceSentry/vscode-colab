{
 "cells": [
  {
   "cell_type": "markdown",
   "metadata": {},
   "source": [
    "# Simple Usage of vscode_colab\n",
    "\n",
    "This notebook demonstrates how to use the `vscode_colab` library to set up a VS Code server in Google Colab."
   ]
  },
  {
   "cell_type": "code",
   "execution_count": null,
   "metadata": {
    "id": "setup-vscode-server"
   },
   "outputs": [],
   "source": [
    "# Import the library\n",
    "from src.vscode_colab import setup_vscode_server\n",
    "\n",
    "# Set up the VS Code server\n",
    "setup_vscode_server()"
   ]
  }
 ],
 "metadata": {
  "kernelspec": {
   "display_name": "Python 3",
   "language": "python",
   "name": "python3"
  },
  "language_info": {
   "codemirror_mode": {
    "name": "ipython",
    "version": 3
   },
   "file_extension": ".py",
   "mimetype": "text/x-python",
   "name": "python",
   "nbconvert_exporter": "python",
   "pygments_lexer": "ipython3",
   "version": "3.7.3"
  }
 },
 "nbformat": 4,
 "nbformat_minor": 2
}
