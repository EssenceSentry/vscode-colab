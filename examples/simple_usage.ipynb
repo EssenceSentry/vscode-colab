{
 "cells": [
  {
   "cell_type": "markdown",
   "metadata": {},
   "source": [
    "# Simple Usage of vscode_colab\n",
    "\n",
    "This notebook demonstrates how to use the `vscode-colab` library to set up a VS Code server in Google Colab."
   ]
  },
  {
   "cell_type": "code",
   "execution_count": null,
   "metadata": {},
   "outputs": [],
   "source": [
    "%pip install vscode-colab"
   ]
  },
  {
   "cell_type": "code",
   "execution_count": null,
   "metadata": {},
   "outputs": [],
   "source": [
    "# For local development, add the src directory to the Python path\n",
    "# import sys\n",
    "\n",
    "\n",
    "# sys.path.append(\"./vscode-colab/src\")"
   ]
  },
  {
   "cell_type": "code",
   "execution_count": null,
   "metadata": {},
   "outputs": [],
   "source": [
    "from vscode_colab import setup_vscode_server\n",
    "\n",
    "\n",
    "# Start the VS Code server\n",
    "setup_vscode_server()"
   ]
  },
  {
   "cell_type": "markdown",
   "metadata": {},
   "source": [
    "You can also pass the extensions you want to install, by default the following are included:"
   ]
  },
  {
   "cell_type": "code",
   "execution_count": null,
   "metadata": {},
   "outputs": [],
   "source": [
    "extensions = [\n",
    "    \"mgesbert.python-path\",\n",
    "    \"ms-python.black-formatter\",\n",
    "    \"ms-python.isort\",\n",
    "    \"ms-python.python\",\n",
    "    \"ms-python.vscode-pylance\",\n",
    "    \"ms-python.debugpy\",\n",
    "    \"ms-toolsai.jupyter\",\n",
    "    \"ms-toolsai.jupyter-keymap\",\n",
    "    \"ms-toolsai.jupyter-renderers\",\n",
    "    \"ms-toolsai.tensorboard\",\n",
    "]\n",
    "\n",
    "\n",
    "setup_vscode_server(\n",
    "    tunnel_name=\"vscode-colab\",\n",
    "    extensions=extensions,\n",
    ")"
   ]
  }
 ],
 "metadata": {
  "kernelspec": {
   "display_name": "Python 3 (ipykernel)",
   "language": "python",
   "name": "python3"
  },
  "language_info": {
   "codemirror_mode": {
    "name": "ipython",
    "version": 3
   },
   "file_extension": ".py",
   "mimetype": "text/x-python",
   "name": "python",
   "nbconvert_exporter": "python",
   "pygments_lexer": "ipython3",
   "version": "3.11.11"
  }
 },
 "nbformat": 4,
 "nbformat_minor": 2
}
