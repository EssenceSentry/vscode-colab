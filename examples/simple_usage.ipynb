{
  "cells": [
    {
      "cell_type": "markdown",
      "metadata": {
        "id": "yKVi_CWGRUf1"
      },
      "source": [
        "# Simple Usage of vscode_colab\n",
        "\n",
        "This notebook demonstrates how to use the `vscode-colab` library to set up a VS Code server in Google Colab."
      ]
    },
    {
      "cell_type": "code",
      "execution_count": null,
      "metadata": {
        "colab": {
          "base_uri": "https://localhost:8080/"
        },
        "id": "NfPowXc3RUf3",
        "outputId": "7bbc1d76-149e-4725-d745-43547bfcdb5f"
      },
      "outputs": [
        {
          "output_type": "stream",
          "name": "stdout",
          "text": [
            "Collecting vscode-colab\n",
            "  Downloading vscode_colab-0.1.2-py3-none-any.whl.metadata (3.5 kB)\n",
            "Requirement already satisfied: requests in /usr/local/lib/python3.11/dist-packages (from vscode-colab) (2.32.3)\n",
            "Requirement already satisfied: ipython in /usr/local/lib/python3.11/dist-packages (from vscode-colab) (7.34.0)\n",
            "Requirement already satisfied: setuptools>=18.5 in /usr/local/lib/python3.11/dist-packages (from ipython->vscode-colab) (75.2.0)\n",
            "Collecting jedi>=0.16 (from ipython->vscode-colab)\n",
            "  Downloading jedi-0.19.2-py2.py3-none-any.whl.metadata (22 kB)\n",
            "Requirement already satisfied: decorator in /usr/local/lib/python3.11/dist-packages (from ipython->vscode-colab) (4.4.2)\n",
            "Requirement already satisfied: pickleshare in /usr/local/lib/python3.11/dist-packages (from ipython->vscode-colab) (0.7.5)\n",
            "Requirement already satisfied: traitlets>=4.2 in /usr/local/lib/python3.11/dist-packages (from ipython->vscode-colab) (5.7.1)\n",
            "Requirement already satisfied: prompt-toolkit!=3.0.0,!=3.0.1,<3.1.0,>=2.0.0 in /usr/local/lib/python3.11/dist-packages (from ipython->vscode-colab) (3.0.51)\n",
            "Requirement already satisfied: pygments in /usr/local/lib/python3.11/dist-packages (from ipython->vscode-colab) (2.18.0)\n",
            "Requirement already satisfied: backcall in /usr/local/lib/python3.11/dist-packages (from ipython->vscode-colab) (0.2.0)\n",
            "Requirement already satisfied: matplotlib-inline in /usr/local/lib/python3.11/dist-packages (from ipython->vscode-colab) (0.1.7)\n",
            "Requirement already satisfied: pexpect>4.3 in /usr/local/lib/python3.11/dist-packages (from ipython->vscode-colab) (4.9.0)\n",
            "Requirement already satisfied: charset-normalizer<4,>=2 in /usr/local/lib/python3.11/dist-packages (from requests->vscode-colab) (3.4.1)\n",
            "Requirement already satisfied: idna<4,>=2.5 in /usr/local/lib/python3.11/dist-packages (from requests->vscode-colab) (3.10)\n",
            "Requirement already satisfied: urllib3<3,>=1.21.1 in /usr/local/lib/python3.11/dist-packages (from requests->vscode-colab) (2.3.0)\n",
            "Requirement already satisfied: certifi>=2017.4.17 in /usr/local/lib/python3.11/dist-packages (from requests->vscode-colab) (2025.1.31)\n",
            "Requirement already satisfied: parso<0.9.0,>=0.8.4 in /usr/local/lib/python3.11/dist-packages (from jedi>=0.16->ipython->vscode-colab) (0.8.4)\n",
            "Requirement already satisfied: ptyprocess>=0.5 in /usr/local/lib/python3.11/dist-packages (from pexpect>4.3->ipython->vscode-colab) (0.7.0)\n",
            "Requirement already satisfied: wcwidth in /usr/local/lib/python3.11/dist-packages (from prompt-toolkit!=3.0.0,!=3.0.1,<3.1.0,>=2.0.0->ipython->vscode-colab) (0.2.13)\n",
            "Downloading vscode_colab-0.1.2-py3-none-any.whl (7.5 kB)\n",
            "Downloading jedi-0.19.2-py2.py3-none-any.whl (1.6 MB)\n",
            "\u001b[2K   \u001b[90m━━━━━━━━━━━━━━━━━━━━━━━━━━━━━━━━━━━━━━━━\u001b[0m \u001b[32m1.6/1.6 MB\u001b[0m \u001b[31m16.7 MB/s\u001b[0m eta \u001b[36m0:00:00\u001b[0m\n",
            "\u001b[?25hInstalling collected packages: jedi, vscode-colab\n",
            "Successfully installed jedi-0.19.2 vscode-colab-0.1.2\n"
          ]
        }
      ],
      "source": [
        "%pip install vscode-colab"
      ]
    },
    {
      "cell_type": "code",
      "execution_count": null,
      "metadata": {
        "id": "GVfUtb-cRUf5"
      },
      "outputs": [],
      "source": [
        "# For local development, add the src directory to the Python path\n",
        "# import sys\n",
        "\n",
        "\n",
        "# sys.path.append(\"./vscode-colab/src\")"
      ]
    },
    {
      "cell_type": "code",
      "execution_count": null,
      "metadata": {
        "colab": {
          "base_uri": "https://localhost:8080/",
          "height": 230
        },
        "id": "R4QOZ71VRUf5",
        "outputId": "0132e47d-9f0b-42c2-8925-93878b1f718b"
      },
      "outputs": [
        {
          "output_type": "display_data",
          "data": {
            "text/plain": [
              "<IPython.core.display.HTML object>"
            ],
            "text/html": [
              "\n",
              "        <div\n",
              "        style=\"padding: 15px; background-color: #f0f7ff; border-radius: 8px; margin: 15px 0; font-family: Arial, sans-serif; border: 1px solid #c8e1ff;\">\n",
              "        <h3 style=\"margin-top: 0; color: #0366d6; font-size: 18px;\">GitHub Authentication Required</h3>\n",
              "        <p style=\"margin-bottom: 15px;\">Please authenticate by clicking the link below and entering the code:</p>\n",
              "        <div style=\"display: flex; align-items: center; margin-bottom: 10px; flex-wrap: wrap;\">\n",
              "            <a href=\"https://github.com/login/device\" target=\"_blank\"\n",
              "                style=\"background-color: #2ea44f; color: white; padding: 10px 16px; text-decoration: none; border-radius: 6px; margin-right: 15px; margin-bottom: 10px; font-weight: 500;\">\n",
              "                Open GitHub Authentication\n",
              "            </a>\n",
              "            <div\n",
              "                style=\"background-color: #ffffff; border: 1px solid #d1d5da; border-radius: 6px; padding: 10px 16px; font-family: 'SFMono-Regular', Consolas, 'Liberation Mono', Menlo, monospace; position: relative; display: flex; align-items: center; margin-bottom: 10px;\">\n",
              "                <span id=\"auth-code\" style=\"margin-right: 15px; font-size: 16px;\">283F-A95F</span>\n",
              "                <button id=\"copyButton\" onclick=\"copyAuthCode()\"\n",
              "                    style=\"background-color: #f6f8fa; border: 1px solid #d1d5da; border-radius: 6px; padding: 6px 12px; cursor: pointer; font-size: 14px;\">\n",
              "                    Copy\n",
              "                </button>\n",
              "            </div>\n",
              "        </div>\n",
              "        <script>\n",
              "            function copyAuthCode() {\n",
              "                const code = \"283F-A95F\";\n",
              "                const copyButton = document.getElementById('copyButton');\n",
              "                \n",
              "                navigator.clipboard.writeText(code).then(() => {\n",
              "                    copyButton.textContent = 'Copied!';\n",
              "                    copyButton.style.backgroundColor = '#dff0d8';\n",
              "                    copyButton.style.borderColor = '#d6e9c6';\n",
              "                    copyButton.style.color = '#3c763d';\n",
              "                    \n",
              "                    setTimeout(() => {\n",
              "                        copyButton.textContent = 'Copy';\n",
              "                        copyButton.style.backgroundColor = '#f6f8fa';\n",
              "                        copyButton.style.borderColor = '#d1d5da';\n",
              "                        copyButton.style.color = '';\n",
              "                    }, 2000);\n",
              "                });\n",
              "            }\n",
              "        </script>\n",
              "    </div>\n",
              "    "
            ]
          },
          "metadata": {}
        },
        {
          "output_type": "execute_result",
          "data": {
            "text/plain": [
              "True"
            ]
          },
          "metadata": {},
          "execution_count": 2
        }
      ],
      "source": [
        "from vscode_colab import login, connect\n",
        "\n",
        "\n",
        "login()"
      ]
    },
    {
      "cell_type": "markdown",
      "metadata": {
        "id": "s7Q1u-8tRUf6"
      },
      "source": [
        "You can also pass the extensions you want to install, by default the following are included:"
      ]
    },
    {
      "cell_type": "code",
      "execution_count": null,
      "metadata": {
        "colab": {
          "base_uri": "https://localhost:8080/",
          "height": 295
        },
        "id": "E86cGd2vRUf7",
        "outputId": "cebf917c-6905-4c6b-ee57-124803f06037"
      },
      "outputs": [
        {
          "output_type": "display_data",
          "data": {
            "text/plain": [
              "<IPython.core.display.HTML object>"
            ],
            "text/html": [
              "\n",
              "        <div\n",
              "            style=\"padding:15px; background:#f5f9ff; border-radius:8px; margin:15px 0; font-family:Arial,sans-serif; border:1px solid #c8e1ff;\">\n",
              "            <h3 style=\"margin:0 0 10px; color:#0366d6;\">✅ VS Code Server Ready!</h3>\n",
              "\n",
              "            <a href=\"https://vscode.dev/tunnel/8796472d7041/content\" target=\"_blank\"\n",
              "                style=\"background:#0366d6;color:white;padding:10px 16px;border-radius:6px;text-decoration:none;font-weight:500;display:inline-block;\">Open\n",
              "                VS Code in Browser</a>\n",
              "\n",
              "            <hr style=\"margin:15px 0;\" />\n",
              "            <p><strong>Connect from desktop VS Code:</strong></p>\n",
              "            <ol>\n",
              "                <li>Sign in with the same GitHub account in VS Code.</li>\n",
              "                <li>Open the Remote Explorer (<kbd>Ctrl+Shift+P</kbd>, type \"Remote Explorer\").</li>\n",
              "                <li>Select \"colab\" under \"Tunnels\" and connect.</li>\n",
              "            </ol>\n",
              "        </div>\n",
              "    "
            ]
          },
          "metadata": {}
        },
        {
          "output_type": "execute_result",
          "data": {
            "text/plain": [
              "<Popen: returncode: None args: './code tunnel --accept-server-license-terms ...>"
            ]
          },
          "metadata": {},
          "execution_count": 3
        }
      ],
      "source": [
        "connect()"
      ]
    }
  ],
  "metadata": {
    "kernelspec": {
      "display_name": "Python 3 (ipykernel)",
      "language": "python",
      "name": "python3"
    },
    "language_info": {
      "codemirror_mode": {
        "name": "ipython",
        "version": 3
      },
      "file_extension": ".py",
      "mimetype": "text/x-python",
      "name": "python",
      "nbconvert_exporter": "python",
      "pygments_lexer": "ipython3",
      "version": "3.11.11"
    },
    "colab": {
      "provenance": []
    }
  },
  "nbformat": 4,
  "nbformat_minor": 0
}